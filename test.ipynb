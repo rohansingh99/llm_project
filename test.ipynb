{
 "cells": [
  {
   "cell_type": "code",
   "execution_count": 1,
   "id": "25bacee3-40e6-4a06-bf43-2bbaba33f272",
   "metadata": {},
   "outputs": [
    {
     "name": "stderr",
     "output_type": "stream",
     "text": [
      "C:\\Users\\Rohan244647\\AppData\\Local\\anaconda3\\envs\\streamlit_env\\lib\\site-packages\\tqdm\\auto.py:21: TqdmWarning: IProgress not found. Please update jupyter and ipywidgets. See https://ipywidgets.readthedocs.io/en/stable/user_install.html\n",
      "  from .autonotebook import tqdm as notebook_tqdm\n"
     ]
    }
   ],
   "source": [
    "import streamlit as st\n",
    "import torch\n",
    "from transformers import DistilBertTokenizer,DistilBertForSequenceClassification\n",
    "from transformers import pipeline"
   ]
  },
  {
   "cell_type": "code",
   "execution_count": 2,
   "id": "16716a7b-f6d6-437c-9f7c-c4c4d2ba6ae7",
   "metadata": {},
   "outputs": [
    {
     "data": {
      "text/plain": [
       "<module 'torch' from 'C:\\\\Users\\\\Rohan244647\\\\AppData\\\\Local\\\\anaconda3\\\\envs\\\\streamlit_env\\\\lib\\\\site-packages\\\\torch\\\\__init__.py'>"
      ]
     },
     "execution_count": 2,
     "metadata": {},
     "output_type": "execute_result"
    }
   ],
   "source": [
    "torch"
   ]
  },
  {
   "cell_type": "code",
   "execution_count": 3,
   "id": "fa646d5f-bab2-4014-973a-8ea4900b2a24",
   "metadata": {},
   "outputs": [
    {
     "data": {
      "text/plain": [
       "<function transformers.pipelines.pipeline(task: str = None, model: Union[str, ForwardRef('PreTrainedModel'), ForwardRef('TFPreTrainedModel'), NoneType] = None, config: Union[str, transformers.configuration_utils.PretrainedConfig, NoneType] = None, tokenizer: Union[str, transformers.tokenization_utils.PreTrainedTokenizer, ForwardRef('PreTrainedTokenizerFast'), NoneType] = None, feature_extractor: Union[str, ForwardRef('SequenceFeatureExtractor'), NoneType] = None, image_processor: Union[str, transformers.image_processing_utils.BaseImageProcessor, NoneType] = None, processor: Union[str, transformers.processing_utils.ProcessorMixin, NoneType] = None, framework: Optional[str] = None, revision: Optional[str] = None, use_fast: bool = True, token: Union[bool, str, NoneType] = None, device: Union[int, str, ForwardRef('torch.device'), NoneType] = None, device_map=None, torch_dtype=None, trust_remote_code: Optional[bool] = None, model_kwargs: Dict[str, Any] = None, pipeline_class: Optional[Any] = None, **kwargs) -> transformers.pipelines.base.Pipeline>"
      ]
     },
     "execution_count": 3,
     "metadata": {},
     "output_type": "execute_result"
    }
   ],
   "source": [
    "pipeline"
   ]
  },
  {
   "cell_type": "code",
   "execution_count": 4,
   "id": "8e535a6f-0da2-4b34-a73a-2f198d0b22d4",
   "metadata": {},
   "outputs": [],
   "source": [
    "MODEL_DIR=\"./\""
   ]
  },
  {
   "cell_type": "code",
   "execution_count": 5,
   "id": "ad890c88-a1f2-42b9-ac68-7b09fadc7ffa",
   "metadata": {},
   "outputs": [
    {
     "data": {
      "text/plain": [
       "'C:\\\\Users\\\\Rohan244647\\\\Downloads\\\\exl_llm_project'"
      ]
     },
     "execution_count": 5,
     "metadata": {},
     "output_type": "execute_result"
    }
   ],
   "source": [
    "pwd(MODEL_DIR)"
   ]
  },
  {
   "cell_type": "code",
   "execution_count": 6,
   "id": "02913b00-a41f-409d-a76d-83dc9c4cee6f",
   "metadata": {},
   "outputs": [],
   "source": [
    "def load_model_ans_tokenizer():\n",
    "    model=DistilBertForSequenceClassification.from_pretrained(MODEL_DIR)\n",
    "    tokenizer=DistilBertTokenizer.from_pretrained(MODEL_DIR)\n",
    "    sentiment_pipeline=pipeline(\"text-classification\",model=model,tokenizer=tokenizer)\n",
    "    return sentiment_pipeline\n",
    "sentiment_pipeline=load_model_ans_tokenizer()"
   ]
  },
  {
   "cell_type": "code",
   "execution_count": 17,
   "id": "2112866d-ec0d-48e5-a252-2cf4f59b0ea6",
   "metadata": {},
   "outputs": [],
   "source": [
    "input_text=\"I  this product it is not that bad\""
   ]
  },
  {
   "cell_type": "code",
   "execution_count": 18,
   "id": "661ca042-2dd7-41af-ad8a-06ecf8ef5b61",
   "metadata": {},
   "outputs": [],
   "source": [
    "result=sentiment_pipeline(input_text)"
   ]
  },
  {
   "cell_type": "code",
   "execution_count": 19,
   "id": "c9900079-1d9f-46bf-afc8-a1b593cf839f",
   "metadata": {},
   "outputs": [
    {
     "data": {
      "text/plain": [
       "[{'label': 'POSITIVE', 'score': 0.9015470743179321}]"
      ]
     },
     "execution_count": 19,
     "metadata": {},
     "output_type": "execute_result"
    }
   ],
   "source": [
    "result"
   ]
  },
  {
   "cell_type": "code",
   "execution_count": null,
   "id": "f69750b7-b30e-4dee-af0c-5e82cfdc054b",
   "metadata": {},
   "outputs": [],
   "source": []
  }
 ],
 "metadata": {
  "kernelspec": {
   "display_name": "Python 3 (ipykernel)",
   "language": "python",
   "name": "python3"
  },
  "language_info": {
   "codemirror_mode": {
    "name": "ipython",
    "version": 3
   },
   "file_extension": ".py",
   "mimetype": "text/x-python",
   "name": "python",
   "nbconvert_exporter": "python",
   "pygments_lexer": "ipython3",
   "version": "3.9.20"
  }
 },
 "nbformat": 4,
 "nbformat_minor": 5
}
